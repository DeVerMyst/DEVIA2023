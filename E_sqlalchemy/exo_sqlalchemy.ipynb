{
 "cells": [
  {
   "cell_type": "markdown",
   "metadata": {},
   "source": [
    "**Exercice 0 : Créer une base de donnée vide**\n",
    "\n",
    "Créer une base de données vide de test : \n",
    "* tmpdb\n",
    "\n",
    "Indications\n",
    "\n",
    "* Utiliser database_exists pour vérifier l'existence de votre base de données.\n",
    "* Utiliser drop_database pour supprimer la base de données si elle existe.\n",
    "* Utiliser create_database pour créer une base de données vide"
   ]
  },
  {
   "cell_type": "code",
   "execution_count": 1,
   "metadata": {},
   "outputs": [
    {
     "name": "stdout",
     "output_type": "stream",
     "text": [
      "is database existing?:  True\n"
     ]
    }
   ],
   "source": [
    "from sqlalchemy_utils import database_exists, create_database, drop_database\n",
    "from sqlalchemy import create_engine\n",
    "\n",
    "DATABASE_HOST = \"localhost\"\n",
    "DATABASE_NAME = \"tmpdb\"\n",
    "DATABASE_USERNAME = \"root\"\n",
    "DATABASE_PASSWORD = \"root\"\n",
    "\n",
    "engine = create_engine(f\"mysql+pymysql://{DATABASE_USERNAME}:{DATABASE_PASSWORD}@{DATABASE_HOST}/{DATABASE_NAME}\")\n",
    "\n",
    "if database_exists(engine.url):\n",
    "    drop_database(engine.url)    \n",
    "\n",
    "create_database(engine.url)\n",
    "print(\"is database existing?: \", database_exists(engine.url))"
   ]
  },
  {
   "cell_type": "markdown",
   "metadata": {},
   "source": [
    "**exercice 1 : Créer une table**\n",
    "\n",
    "Créer une table products avec les colonnes suivantes :\n",
    "\n",
    "* id : un identifiant unique\n",
    "* name : le nom du produit\n",
    "* price : le prix du produit\n",
    "\n",
    "Indications\n",
    "\n",
    "* Créez une connexion à la base de données.\n",
    "* Créez une session.\n",
    "* Créez une classe Product pour représenter la table products.\n",
    "* Fermez la session.\n",
    "\n"
   ]
  },
  {
   "cell_type": "code",
   "execution_count": 2,
   "metadata": {},
   "outputs": [],
   "source": [
    "from sqlalchemy import Column, Integer, String, Float\n",
    "from sqlalchemy.orm import declarative_base\n",
    "\n",
    "# Création du moteur de base de données\n",
    "engine = create_engine(f\"mysql+pymysql://{DATABASE_USERNAME}:{DATABASE_PASSWORD}@{DATABASE_HOST}/{DATABASE_NAME}\")  \n",
    "\n",
    "Base = declarative_base()\n",
    "\n",
    "class Product(Base):\n",
    "    __tablename__ = \"utilisateur\"\n",
    "\n",
    "    id = Column(Integer, primary_key=True ,autoincrement=True)\n",
    "    name = Column(String(255))\n",
    "    price = Column(Float)  \n",
    "\n",
    "# Création des tables\n",
    "Base.metadata.create_all(engine)"
   ]
  },
  {
   "cell_type": "markdown",
   "metadata": {},
   "source": [
    "**exercice 2 : Insérer des données**\n",
    "\n",
    "Énoncé\n",
    "\n",
    "Insérer les données suivantes dans la table products :\n",
    "\n",
    "|id | name | price|\n",
    "|----|------|-------|\n",
    "|1 | Produit 1 | 100|\n",
    "|2 | Produit 2 | 200|\n",
    "\n",
    "Indications\n",
    "\n",
    "* Importez Session du module sqlalchemy.orm\n",
    "* Créez une connexion à la base de données.\n",
    "* Créez une session.\n",
    "* Créez un objet Product pour chaque ligne de données.\n",
    "* Utilisez la méthode add() pour ajouter chaque objet Product à la session.\n",
    "* Utilisez la méthode commit() pour valider les modifications.\n",
    "* Fermez la session.\n"
   ]
  },
  {
   "cell_type": "code",
   "execution_count": 3,
   "metadata": {},
   "outputs": [],
   "source": [
    "from sqlalchemy.orm import Session \n",
    "\n",
    "# Création du moteur de base de données\n",
    "engine = create_engine(f\"mysql+pymysql://{DATABASE_USERNAME}:{DATABASE_PASSWORD}@{DATABASE_HOST}/{DATABASE_NAME}\")  \n",
    "\n",
    "# Session\n",
    "session = Session(engine)\n",
    "\n",
    "# Données\n",
    "product_1 = Product(name=\"Produit 1\", price=100)\n",
    "product_2 = Product(name=\"Produit 2\", price=200)\n",
    "\n",
    "# Insertion des données\n",
    "session.add(product_1)\n",
    "session.add(product_2)\n",
    "\n",
    "# Validation des modifications\n",
    "session.commit()\n",
    "\n",
    "# Fermeture de la session\n",
    "session.close()"
   ]
  },
  {
   "cell_type": "markdown",
   "metadata": {},
   "source": [
    "**Exercice 3 : Lire des données**\n",
    "\n",
    "Énoncé\n",
    "\n",
    "Lire les données de la table products et afficher les résultats.\n",
    "\n",
    "Indications\n",
    "\n",
    "* Créez une connexion à la base de données.\n",
    "* Créez une session.\n",
    "* Utilisez la méthode query() pour créer une requête sur la table products.\n",
    "* Utilisez la méthode all() pour retourner tous les résultats de la requête.\n",
    "* Afficher les résultats.\n",
    "* Fermez la session.\n",
    "\n"
   ]
  },
  {
   "cell_type": "code",
   "execution_count": 4,
   "metadata": {},
   "outputs": [
    {
     "name": "stdout",
     "output_type": "stream",
     "text": [
      "1 Produit 1 100.0\n",
      "2 Produit 2 200.0\n"
     ]
    }
   ],
   "source": [
    "# Création du moteur de base de données\n",
    "engine = create_engine(f\"mysql+pymysql://{DATABASE_USERNAME}:{DATABASE_PASSWORD}@{DATABASE_HOST}/{DATABASE_NAME}\")  \n",
    "\n",
    "# Session\n",
    "session = Session(engine)\n",
    "\n",
    "# Requête\n",
    "query = session.query(Product)\n",
    "\n",
    "# Résultats\n",
    "results = query.all()\n",
    "\n",
    "# Affichage des résultats\n",
    "for result in results:\n",
    "    print(result.id, result.name, result.price)\n",
    "\n",
    "# Fermeture de la session\n",
    "session.close()\n"
   ]
  },
  {
   "cell_type": "markdown",
   "metadata": {},
   "source": [
    "**Exercice 4 : Créer une table relationnelle**\n",
    "\n",
    "Créer trois tables relationnelles suivantes :\n",
    "\n",
    "* products : une table pour les produits\n",
    "* customers : une table pour les clients\n",
    "* orders : une table pour les commandes\n",
    "\n",
    "Indications\n",
    "\n",
    "* Créez une connexion à la base de données.\n",
    "* Créez une session.\n",
    "* Créez une classe Product pour représenter la table products.\n",
    "* Créez une classe Customer pour représenter la table customers.\n",
    "* Créez une classe Order pour représenter la table orders.\n",
    "* Utilisez la méthode create_table() pour créer les trois tables.\n",
    "* Fermez la session.\n",
    "\n"
   ]
  },
  {
   "cell_type": "code",
   "execution_count": 5,
   "metadata": {},
   "outputs": [],
   "source": [
    "from sqlalchemy.orm import relationship\n",
    "from sqlalchemy import ForeignKey\n",
    "\n",
    "# Nouvelle base \n",
    "Base = declarative_base()\n",
    "\n",
    "# Création du moteur de base de données\n",
    "engine = create_engine(f\"mysql+pymysql://{DATABASE_USERNAME}:{DATABASE_PASSWORD}@{DATABASE_HOST}/{DATABASE_NAME}\")  \n",
    "\n",
    "# Models\n",
    "class Customer(Base):\n",
    "    __tablename__ = \"customer\"\n",
    "\n",
    "    id = Column(Integer, primary_key=True ,autoincrement=True)\n",
    "    name = Column(String(255))\n",
    "    email = Column(String(255))\n",
    "\n",
    "class Product(Base):\n",
    "    __tablename__ = \"product\"\n",
    "\n",
    "    id = Column(Integer, primary_key=True ,autoincrement=True)\n",
    "    name = Column(String(255))\n",
    "    price = Column(Float)\n",
    "\n",
    "class Order(Base):\n",
    "    __tablename__ = \"order\"\n",
    "\n",
    "    id = Column(Integer, primary_key=True ,autoincrement=True)\n",
    "\n",
    "    customer_id = Column(Integer, ForeignKey(\"customer.id\"))\n",
    "    customer = relationship(\"Customer\")\n",
    "\n",
    "    product_id = Column(Integer, ForeignKey(\"product.id\"))\n",
    "    product = relationship(\"Product\")\n",
    "\n",
    "# Création des tables\n",
    "Base.metadata.create_all(engine)\n",
    "\n",
    "# Fermeture de la session\n",
    "session.close()\n"
   ]
  },
  {
   "cell_type": "markdown",
   "metadata": {},
   "source": [
    "**Exercice 5 : insérer des données dans les trois tables**\n",
    "\n",
    "Insérer les données suivantes dans les trois tables :\n",
    "\n",
    "products\n",
    "|id | name | price|\n",
    "|----|------|-------|\n",
    "|1 | Produit 1 | 100|\n",
    "|2 | Produit 2 | 200|\n",
    "\n",
    "customers\n",
    "|id | name | email|\n",
    "|----|------|-------|\n",
    "|1 | Jean | jean@exam|ple.com\n",
    "|2 | Marie | marie@exa|mple.com\n",
    "\n",
    "orders\n",
    "|id | customer_id | product_id|\n",
    "|----|------|-------|\n",
    "|1 | 1 | 1|\n",
    "|2 | 2 | 2|\n",
    "\n",
    "Indications\n",
    "\n",
    "* Créez une connexion à la base de données.\n",
    "* Créez une session.\n",
    "* Créez des objets Product, Customer et Order pour chaque ligne de données.\n",
    "* Utilisez la méthode add() pour ajouter chaque objet à la session.\n",
    "* Utilisez la méthode commit() pour valider les modifications.\n",
    "* Fermez la session.\n"
   ]
  },
  {
   "cell_type": "code",
   "execution_count": 12,
   "metadata": {},
   "outputs": [],
   "source": [
    "# Connexion à la base de données\n",
    "engine = create_engine(f\"mysql+pymysql://{DATABASE_USERNAME}:{DATABASE_PASSWORD}@{DATABASE_HOST}/{DATABASE_NAME}\")  \n",
    "\n",
    "# Session\n",
    "session = Session(engine)\n",
    "\n",
    "# Données\n",
    "product_1 = Product(name=\"Produit 1\", price=100)\n",
    "product_2 = Product(name=\"Produit 2\", price=200)\n",
    "\n",
    "# Insertion des données\n",
    "session.add(product_1)\n",
    "session.add(product_2)\n",
    "\n",
    "# Validation des modifications\n",
    "session.commit()\n",
    "\n",
    "customer_1 = Customer(name=\"Jean\", email=\"jean@example.com\")\n",
    "customer_2 = Customer(name=\"Marie\", email=\"marie@example.com\")\n",
    "\n",
    "# Insertion des données\n",
    "session.add(customer_1)\n",
    "session.add(customer_2)\n",
    "\n",
    "# Validation des modifications\n",
    "session.commit()\n",
    "\n",
    "order_1 = Order(customer_id=1, product_id=1)\n",
    "order_2 = Order(customer_id=2, product_id=2)\n",
    "\n",
    "# Insertion des données\n",
    "session.add(order_1)\n",
    "session.add(order_2)\n",
    "\n",
    "# Validation des modifications\n",
    "session.commit()\n",
    "\n",
    "# Fermeture de la session\n",
    "session.close()\n"
   ]
  },
  {
   "cell_type": "markdown",
   "metadata": {},
   "source": [
    "**Exercice 6 : Lire des données des 3 tables**\n",
    "\n",
    "Lire les données des trois tables et les afficher.\n",
    "\n",
    "Indications\n",
    "\n",
    "* Créez une connexion à la base de données.\n",
    "* Créez une session.\n",
    "* Utilisez la méthode query() pour créer une requête sur chaque table.\n",
    "* Utilisez la méthode all() pour retourner tous les résultats de la requête.\n",
    "* Afficher les résultats.\n",
    "* Fermez la session."
   ]
  },
  {
   "cell_type": "code",
   "execution_count": 13,
   "metadata": {},
   "outputs": [
    {
     "name": "stdout",
     "output_type": "stream",
     "text": [
      "Produits :\n",
      "- 1 Produit 1 100.0\n",
      "- 2 Produit 2 500.0\n",
      "- 3 Produit 1 100.0\n",
      "- 4 Produit 2 200.0\n",
      "\n",
      "Clients :\n",
      "- 1 Jean jean@example.com\n",
      "- 2 Marie marie@example.com\n",
      "- 3 Jean jean@example.com\n",
      "- 4 Marie marie@example.com\n",
      "\n",
      "Commandes :\n",
      "- 1 None None\n",
      "- 3 1 1\n",
      "- 4 2 2\n"
     ]
    }
   ],
   "source": [
    "# Connexion à la base de données\n",
    "engine = create_engine(f\"mysql+pymysql://{DATABASE_USERNAME}:{DATABASE_PASSWORD}@{DATABASE_HOST}/{DATABASE_NAME}\")  \n",
    "\n",
    "# Session\n",
    "session = Session(engine)\n",
    "\n",
    "# Requêtes\n",
    "query_products = session.query(Product)\n",
    "query_customers = session.query(Customer)\n",
    "query_orders = session.query(Order)\n",
    "\n",
    "# Résultats\n",
    "products = query_products.all()\n",
    "customers = query_customers.all()\n",
    "orders = query_orders.all()\n",
    "\n",
    "# Affichage des résultats\n",
    "print(\"Produits :\")\n",
    "for product in products:\n",
    "    print(\"-\",product.id, product.name, product.price)\n",
    "\n",
    "print(\"\\nClients :\")\n",
    "for customer in customers:\n",
    "    print(\"-\",customer.id, customer.name, customer.email)\n",
    "\n",
    "print(\"\\nCommandes :\")\n",
    "for order in orders:\n",
    "    print(\"-\",order.id, order.customer_id, order.product_id)\n",
    "\n",
    "# Fermeture de la session\n",
    "session.close()\n"
   ]
  },
  {
   "cell_type": "markdown",
   "metadata": {},
   "source": [
    "**Exercice 7 : Lire les données d'une table en utilisant une jointure**\n",
    "\n",
    "Lire les données de la table orders en utilisant une jointure avec la table customers pour afficher le nom du client pour chaque commande.\n",
    "\n",
    "Indications\n",
    "\n",
    "* Créez une connexion à la base de données.\n",
    "* Créez une session.\n",
    "* Utilisez la méthode query() pour créer une requête qui retourne toutes les commandes avec le nom du client associé.\n",
    "* Utilisez la méthode all() pour retourner tous les résultats de la requête.\n",
    "* Afficher les résultats.\n",
    "* Fermez la session."
   ]
  },
  {
   "cell_type": "code",
   "execution_count": 14,
   "metadata": {},
   "outputs": [
    {
     "name": "stdout",
     "output_type": "stream",
     "text": [
      "[(<__main__.Order object at 0x7fe536a112b0>, <__main__.Customer object at 0x7fe536a11370>), (<__main__.Order object at 0x7fe536a113a0>, <__main__.Customer object at 0x7fe536a113d0>)]\n",
      "3 1 Jean\n",
      "4 2 Marie\n"
     ]
    }
   ],
   "source": [
    "# Connexion à la base de données\n",
    "engine = create_engine(f\"mysql+pymysql://{DATABASE_USERNAME}:{DATABASE_PASSWORD}@{DATABASE_HOST}/{DATABASE_NAME}\")  \n",
    "\n",
    "# Session\n",
    "session = Session(engine)\n",
    "\n",
    "# Requête\n",
    "query = session.query(Order, Customer)\n",
    "query = query.join(Customer, Order.customer_id == Customer.id)\n",
    "\n",
    "# Résultats\n",
    "results = query.all()\n",
    "\n",
    "# Affichage des résultats\n",
    "for order, customer in results:\n",
    "    print(order.id, order.product_id, customer.name)\n",
    "\n",
    "# Fermeture de la session\n",
    "session.close()\n"
   ]
  },
  {
   "cell_type": "markdown",
   "metadata": {},
   "source": [
    "**Exercice 8 : Lire les données d'une table en utilisant une jointure multiple**\n",
    "\n",
    "Lire les données de la table orders en utilisant une jointure multiple avec les tables products et customers pour afficher le nom du produit, le nom du client et le prix du produit pour chaque commande.\n",
    "\n",
    "Indications\n",
    "\n",
    "* Créez une connexion à la base de données.\n",
    "* Créez une session.\n",
    "* Utilisez la méthode query() pour créer une requête qui retourne toutes les commandes avec le nom du produit, le nom du client et le prix du produit associés.\n",
    "* Utilisez la méthode all() pour retourner tous les résultats de la requête.\n",
    "* Afficher les résultats.\n",
    "* Fermez la session."
   ]
  },
  {
   "cell_type": "code",
   "execution_count": 15,
   "metadata": {},
   "outputs": [
    {
     "name": "stdout",
     "output_type": "stream",
     "text": [
      "3 Produit 1 Jean 100.0\n",
      "4 Produit 2 Marie 500.0\n"
     ]
    }
   ],
   "source": [
    "# Connexion à la base de données\n",
    "engine = create_engine(f\"mysql+pymysql://{DATABASE_USERNAME}:{DATABASE_PASSWORD}@{DATABASE_HOST}/{DATABASE_NAME}\")  \n",
    "\n",
    "# Session\n",
    "session = Session(engine)\n",
    "\n",
    "# Requête\n",
    "query = session.query(Order, Product, Customer)\n",
    "query = query.join(Product, Order.product_id == Product.id)\n",
    "query = query.join(Customer, Order.customer_id == Customer.id)\n",
    "\n",
    "# Résultats\n",
    "results = query.all()\n",
    "\n",
    "# Affichage des résultats\n",
    "for order, product, customer in results:\n",
    "    print(order.id, product.name, customer.name, product.price)\n",
    "\n",
    "# Fermeture de la session\n",
    "session.close()\n"
   ]
  },
  {
   "cell_type": "markdown",
   "metadata": {},
   "source": [
    "**Exercice 9 : Mettre à jour les données d'une table**\n",
    "\n",
    "Mettre à jour le prix du produit Produit 2 à 500.\n",
    "\n",
    "Indications\n",
    "\n",
    "* Créez une connexion à la base de données.\n",
    "* Créez une session.\n",
    "* Obtenez l'objet Product pour le produit Produit 2.\n",
    "* Modifiez le prix du produit.\n",
    "* Enregistrez les modifications.\n",
    "* Fermez la session.\n",
    "\n",
    "\n"
   ]
  },
  {
   "cell_type": "code",
   "execution_count": 10,
   "metadata": {},
   "outputs": [
    {
     "name": "stdout",
     "output_type": "stream",
     "text": [
      "100.0\n",
      "500.0\n"
     ]
    }
   ],
   "source": [
    "# Connexion à la base de données\n",
    "engine = create_engine(f\"mysql+pymysql://{DATABASE_USERNAME}:{DATABASE_PASSWORD}@{DATABASE_HOST}/{DATABASE_NAME}\")  \n",
    "\n",
    "# Session\n",
    "session = Session(engine)\n",
    "\n",
    "# Obtention de l'objet Product\n",
    "product = session.query(Product).filter(Product.name == \"Produit 2\").first()\n",
    "\n",
    "# Mise à jour du prix\n",
    "product.price = 500\n",
    "\n",
    "# Enregistrement des modifications\n",
    "session.commit()\n",
    "\n",
    "# vérification des modifications \n",
    "result = session.query(Product).all()\n",
    "\n",
    "# Affichage des résultats\n",
    "for product in result:\n",
    "    print(product.price)\n",
    "\n",
    "# Fermeture de la session\n",
    "session.close()\n"
   ]
  },
  {
   "cell_type": "markdown",
   "metadata": {},
   "source": [
    "# Exercice 10 : Supprimer les données d'une table\n",
    "\n",
    "Supprimer la commande avec l'identifiant 2.\n",
    "\n",
    "Indications\n",
    "\n",
    "* Créez une connexion à la base de données.\n",
    "* Créez une session.\n",
    "* Obtenez l'objet Order pour la commande avec l'identifiant 2.\n",
    "* Supprimez la commande.\n",
    "* Enregistrez les modifications.\n",
    "* Fermez la session."
   ]
  },
  {
   "cell_type": "code",
   "execution_count": 11,
   "metadata": {},
   "outputs": [
    {
     "name": "stdout",
     "output_type": "stream",
     "text": [
      "1\n"
     ]
    }
   ],
   "source": [
    "# Connexion à la base de données\n",
    "engine = create_engine(f\"mysql+pymysql://{DATABASE_USERNAME}:{DATABASE_PASSWORD}@{DATABASE_HOST}/{DATABASE_NAME}\")  \n",
    "\n",
    "# Session\n",
    "session = Session(engine)\n",
    "\n",
    "# Obtention de l'objet Order\n",
    "order = session.query(Order).filter(Order.id == 2).first()\n",
    "\n",
    "# Suppression de la commande\n",
    "session.delete(order)\n",
    "\n",
    "# Enregistrement des modifications\n",
    "session.commit()\n",
    "\n",
    "# vérification des modifications \n",
    "result = session.query(Order).all()\n",
    "\n",
    "# Affichage des résultats\n",
    "for order in result:\n",
    "    print(order.id)\n",
    "\n",
    "# Fermeture de la session\n",
    "session.close()\n"
   ]
  }
 ],
 "metadata": {
  "kernelspec": {
   "display_name": "base",
   "language": "python",
   "name": "python3"
  },
  "language_info": {
   "codemirror_mode": {
    "name": "ipython",
    "version": 3
   },
   "file_extension": ".py",
   "mimetype": "text/x-python",
   "name": "python",
   "nbconvert_exporter": "python",
   "pygments_lexer": "ipython3",
   "version": "3.8.8"
  },
  "orig_nbformat": 4
 },
 "nbformat": 4,
 "nbformat_minor": 2
}
