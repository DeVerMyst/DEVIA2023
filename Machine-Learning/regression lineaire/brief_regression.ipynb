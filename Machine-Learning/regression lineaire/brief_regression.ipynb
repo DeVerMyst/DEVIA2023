{
 "cells": [
  {
   "cell_type": "code",
   "execution_count": 5,
   "id": "817151ab-9bef-4445-8b1d-3ed200cfc28f",
   "metadata": {},
   "outputs": [],
   "source": [
    "# NOTE: Structure your work in a git repository like this :\n",
    "#\n",
    "# regression_brief/\n",
    "# ├── veille/{vos documents de veille, notes, slide etc}\n",
    "# ├── playground.ipynb\n",
    "# ├── covid.ipynb\n",
    "#\n",
    "# At the end of this brief, you will deliver your work to the us, by publishing your repo to github. "
   ]
  },
  {
   "cell_type": "markdown",
   "id": "5a3260a8-00b2-4669-9262-4d63aef44117",
   "metadata": {},
   "source": [
    "# 1) Make a Veille about : \n",
    "\n",
    "- Linear regression\n",
    "    - What, how, when\n",
    "    - sklearn > linear_model > LinearRegression\n",
    "- Error function and metrics.\n",
    "    - what, how, when\n",
    "    - sklearn > metrics > mean_squared_error\n",
    "- Dilemme biais-variance. wtf ?\n"
   ]
  },
  {
   "cell_type": "markdown",
   "id": "b577211c-4bac-4938-a555-323bb5df45cd",
   "metadata": {},
   "source": [
    "# 2) Playground\n",
    "\n",
    "### Dive\n",
    "- Create a synthetic dataset to experiment with linear regression\n",
    "- divide this dataset in a training set and un testing set (see sklearn train_test_split)\n",
    "- Visualize data.\n",
    "- **train your model to fit a linear regression model**\n",
    "- predict data on your test set.\n",
    "- Visualize the result\n",
    "- Compute the RMSE score.\n",
    "\n",
    "### Explore\n",
    "- Right, that was easy ? Add some distorsion to your data to make the problem harder (like some quadratique distorsion)\n",
    "- fit and predict again. What do you observe ?\n",
    "- Try to fit a better model. Be creative."
   ]
  },
  {
   "cell_type": "markdown",
   "id": "ccaf54a4-0697-4982-a5b2-90599aeee897",
   "metadata": {},
   "source": [
    "# 3) Practical example\n",
    "\n",
    "- Get back our covid data, on dc and hospitalisation.\n",
    "- do a linear regression on the dc curcve, plot the result and log an error score.\n",
    "- Impromve your score by spliting the data into several part. Each part will its one linear model.\n",
    "- Now, because we are lazy, find where to split optimally the dataset automatically (see sklearn DecisionTreeRegresso) "
   ]
  },
  {
   "cell_type": "code",
   "execution_count": null,
   "id": "78516c7d-9260-4ea1-9514-a1fe71eb6865",
   "metadata": {},
   "outputs": [],
   "source": []
  }
 ],
 "metadata": {
  "kernelspec": {
   "display_name": "Python 3 (ipykernel)",
   "language": "python",
   "name": "python3"
  },
  "language_info": {
   "codemirror_mode": {
    "name": "ipython",
    "version": 3
   },
   "file_extension": ".py",
   "mimetype": "text/x-python",
   "name": "python",
   "nbconvert_exporter": "python",
   "pygments_lexer": "ipython3",
   "version": "3.9.2"
  }
 },
 "nbformat": 4,
 "nbformat_minor": 5
}
