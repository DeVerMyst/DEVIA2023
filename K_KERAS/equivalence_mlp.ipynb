{
 "cells": [
  {
   "cell_type": "code",
   "execution_count": null,
   "metadata": {},
   "outputs": [],
   "source": [
    "from sklearn.neural_network import MLPClassifier\n",
    "from sklearn.model_selection import train_test_split\n",
    "from sklearn.metrics import accuracy_score, classification_report\n",
    "from tensorflow.keras.models import Sequential\n",
    "from tensorflow.keras.layers import Dense\n",
    "from tensorflow.keras.optimizers import Adam\n",
    "from sklearn.datasets import load_iris\n",
    "import numpy as np\n",
    "\n",
    "# Charger le jeu de données Iris\n",
    "iris = load_iris()\n",
    "X = iris.data\n",
    "y = iris.target\n",
    "\n",
    "# Diviser les données en ensembles d'entraînement et de test\n",
    "X_train, X_test, y_train, y_test = train_test_split(X, y, test_size=0.2, random_state=42)\n",
    "\n",
    "# Entraîner un MLP avec scikit-learn\n",
    "mlp_sklearn = MLPClassifier(hidden_layer_sizes=(50,), max_iter=1000, random_state=42)\n",
    "mlp_sklearn.fit(X_train, y_train)\n",
    "\n",
    "# Évaluer le modèle scikit-learn\n",
    "y_pred_sklearn = mlp_sklearn.predict(X_test)\n",
    "print(\"MLP de scikit-learn - Accuracy :\", accuracy_score(y_test, y_pred_sklearn))\n",
    "print(\"Classification Report:\")\n",
    "print(classification_report(y_test, y_pred_sklearn))\n",
    "\n",
    "# Entraîner un MLP avec Keras\n",
    "model_keras = Sequential()\n",
    "model_keras.add(Dense(units=50, input_dim=4, activation='relu'))\n",
    "model_keras.add(Dense(units=3, activation='softmax'))\n",
    "model_keras.compile(optimizer=Adam(), loss='sparse_categorical_crossentropy', metrics=['accuracy'])\n",
    "model_keras.fit(X_train, y_train, epochs=100, batch_size=5, verbose=0)\n",
    "\n",
    "# Évaluer le modèle Keras\n",
    "y_pred_keras = np.argmax(model_keras.predict(X_test), axis=-1)\n",
    "print(\"\\nMLP de Keras - Accuracy :\", accuracy_score(y_test, y_pred_keras))\n",
    "print(\"Classification Report:\")\n",
    "print(classification_report(y_test, y_pred_keras))\n"
   ]
  }
 ],
 "metadata": {
  "language_info": {
   "name": "python"
  }
 },
 "nbformat": 4,
 "nbformat_minor": 2
}
