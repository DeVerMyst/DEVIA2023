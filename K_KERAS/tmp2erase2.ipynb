{
 "cells": [
  {
   "cell_type": "code",
   "execution_count": 33,
   "metadata": {},
   "outputs": [
    {
     "name": "stdout",
     "output_type": "stream",
     "text": [
      "train\n",
      "x (60000, 28, 28)\n",
      "y (60000,)\n",
      "test\n",
      "x (10000, 28, 28)\n",
      "y (10000,)\n"
     ]
    }
   ],
   "source": [
    "from matplotlib import pyplot as plt\n",
    "from tensorflow.keras.datasets.mnist import load_data\n",
    "\n",
    "(x_train, y_train), (x_test, y_test) = load_data()\n",
    "\n",
    "print(\"train\")\n",
    "print(\"x\", x_train.shape)\n",
    "print(\"y\", y_train.shape)\n",
    "\n",
    "print(\"test\")\n",
    "print(\"x\", x_test.shape)\n",
    "print(\"y\", y_test.shape)\n",
    "\n"
   ]
  },
  {
   "cell_type": "code",
   "execution_count": 4,
   "metadata": {},
   "outputs": [
    {
     "data": {
      "text/plain": [
       "<matplotlib.colorbar.Colorbar at 0x148b4d56460>"
      ]
     },
     "execution_count": 4,
     "metadata": {},
     "output_type": "execute_result"
    },
    {
     "data": {
      "image/png": "[encoded data removed]",
      "text/plain": [
       "<Figure size 432x288 with 2 Axes>"
      ]
     },
     "metadata": {
      "needs_background": "light"
     },
     "output_type": "display_data"
    }
   ],
   "source": [
    "n= 42\n",
    "plt.imshow(x_train[n,:,:], cmap=\"gray\")\n",
    "plt.axis(False)\n",
    "plt.colorbar()"
   ]
  },
  {
   "cell_type": "code",
   "execution_count": 5,
   "metadata": {},
   "outputs": [
    {
     "name": "stdout",
     "output_type": "stream",
     "text": [
      "[5 0 4 1 9 2 1 3 1 4]\n"
     ]
    }
   ],
   "source": [
    "print(y_train[:10])\n"
   ]
  },
  {
   "cell_type": "code",
   "execution_count": 34,
   "metadata": {},
   "outputs": [],
   "source": [
    "\n",
    "from tensorflow.keras.utils import to_categorical\n",
    "y_train_c = to_categorical(y_train, 10)\n",
    "y_test_c = to_categorical(y_test, 10)"
   ]
  },
  {
   "cell_type": "code",
   "execution_count": 32,
   "metadata": {},
   "outputs": [
    {
     "data": {
      "text/plain": [
       "array([[0., 0., 0., ..., 0., 0., 0.],\n",
       "       [1., 0., 0., ..., 0., 0., 0.],\n",
       "       [0., 0., 0., ..., 0., 0., 0.],\n",
       "       ...,\n",
       "       [0., 0., 0., ..., 0., 0., 0.],\n",
       "       [0., 0., 0., ..., 0., 0., 0.],\n",
       "       [0., 0., 0., ..., 0., 1., 0.]], dtype=float32)"
      ]
     },
     "execution_count": 32,
     "metadata": {},
     "output_type": "execute_result"
    }
   ],
   "source": [
    "y_train"
   ]
  },
  {
   "cell_type": "code",
   "execution_count": 6,
   "metadata": {},
   "outputs": [
    {
     "data": {
      "text/plain": [
       "<matplotlib.colorbar.Colorbar at 0x148af891b20>"
      ]
     },
     "execution_count": 6,
     "metadata": {},
     "output_type": "execute_result"
    },
    {
     "data": {
      "image/png": "[encoded data removed]",
      "text/plain": [
       "<Figure size 432x288 with 2 Axes>"
      ]
     },
     "metadata": {
      "needs_background": "light"
     },
     "output_type": "display_data"
    }
   ],
   "source": [
    "x_train = x_train / 255.0\n",
    "x_test = x_test / 255.0\n",
    "\n",
    "n= 42\n",
    "plt.imshow(x_train[n,:,:], cmap=\"gray\")\n",
    "plt.axis(False)\n",
    "plt.colorbar()"
   ]
  },
  {
   "cell_type": "code",
   "execution_count": 36,
   "metadata": {},
   "outputs": [
    {
     "name": "stdout",
     "output_type": "stream",
     "text": [
      "Epoch 1/20\n",
      "469/469 [==============================] - 1s 2ms/step - loss: 4.6253 - accuracy: 0.8679 - val_loss: 1.0808 - val_accuracy: 0.9000\n",
      "Epoch 2/20\n",
      "469/469 [==============================] - 1s 2ms/step - loss: 0.6634 - accuracy: 0.9085 - val_loss: 0.5186 - val_accuracy: 0.9064\n",
      "Epoch 3/20\n",
      "469/469 [==============================] - 1s 2ms/step - loss: 0.3458 - accuracy: 0.9277 - val_loss: 0.4182 - val_accuracy: 0.9250\n",
      "Epoch 4/20\n",
      "469/469 [==============================] - 1s 2ms/step - loss: 0.2527 - accuracy: 0.9412 - val_loss: 0.4045 - val_accuracy: 0.9367\n",
      "Epoch 5/20\n",
      "469/469 [==============================] - 1s 2ms/step - loss: 0.2061 - accuracy: 0.9495 - val_loss: 0.3588 - val_accuracy: 0.9378\n",
      "Epoch 6/20\n",
      "469/469 [==============================] - 1s 2ms/step - loss: 0.1722 - accuracy: 0.9550 - val_loss: 0.3716 - val_accuracy: 0.9321\n",
      "Epoch 7/20\n",
      "469/469 [==============================] - 1s 2ms/step - loss: 0.1643 - accuracy: 0.9566 - val_loss: 0.3194 - val_accuracy: 0.9460\n",
      "Epoch 8/20\n",
      "469/469 [==============================] - 1s 2ms/step - loss: 0.1585 - accuracy: 0.9584 - val_loss: 0.3068 - val_accuracy: 0.9455\n",
      "Epoch 9/20\n",
      "469/469 [==============================] - 1s 2ms/step - loss: 0.1467 - accuracy: 0.9600 - val_loss: 0.3009 - val_accuracy: 0.9481\n",
      "Epoch 10/20\n",
      "469/469 [==============================] - 1s 2ms/step - loss: 0.1432 - accuracy: 0.9639 - val_loss: 0.2991 - val_accuracy: 0.9474\n",
      "Epoch 11/20\n",
      "469/469 [==============================] - 1s 2ms/step - loss: 0.1285 - accuracy: 0.9648 - val_loss: 0.2685 - val_accuracy: 0.9522\n",
      "Epoch 12/20\n",
      "469/469 [==============================] - 1s 2ms/step - loss: 0.1303 - accuracy: 0.9652 - val_loss: 0.2520 - val_accuracy: 0.9531\n",
      "Epoch 13/20\n",
      "469/469 [==============================] - 1s 2ms/step - loss: 0.1264 - accuracy: 0.9661 - val_loss: 0.2556 - val_accuracy: 0.9554\n",
      "Epoch 14/20\n",
      "469/469 [==============================] - 1s 2ms/step - loss: 0.1071 - accuracy: 0.9708 - val_loss: 0.3053 - val_accuracy: 0.9522\n",
      "Epoch 15/20\n",
      "469/469 [==============================] - 1s 2ms/step - loss: 0.1125 - accuracy: 0.9701 - val_loss: 0.2601 - val_accuracy: 0.9541\n",
      "Epoch 16/20\n",
      "469/469 [==============================] - 1s 2ms/step - loss: 0.1045 - accuracy: 0.9718 - val_loss: 0.2479 - val_accuracy: 0.9607\n",
      "Epoch 17/20\n",
      "469/469 [==============================] - 1s 2ms/step - loss: 0.0973 - accuracy: 0.9745 - val_loss: 0.2583 - val_accuracy: 0.9538\n",
      "Epoch 18/20\n",
      "469/469 [==============================] - 1s 2ms/step - loss: 0.1068 - accuracy: 0.9730 - val_loss: 0.2929 - val_accuracy: 0.9543\n",
      "Epoch 19/20\n",
      "469/469 [==============================] - 1s 2ms/step - loss: 0.0948 - accuracy: 0.9745 - val_loss: 0.2569 - val_accuracy: 0.9593\n",
      "Epoch 20/20\n",
      "469/469 [==============================] - 1s 2ms/step - loss: 0.0852 - accuracy: 0.9773 - val_loss: 0.2546 - val_accuracy: 0.9613\n",
      "313/313 [==============================] - 0s 700us/step\n"
     ]
    }
   ],
   "source": [
    "from tensorflow.keras.models import Sequential\n",
    "from tensorflow.keras.layers import Flatten, Dense \n",
    "\n",
    "# model \n",
    "model_flat = Sequential()\n",
    "\n",
    "# input\n",
    "model_flat.add(Flatten(input_shape=(28,28)))\n",
    "\n",
    "# hidden\n",
    "model_flat.add(Dense(units=128, activation=\"relu\"))\n",
    "\n",
    "# output\n",
    "model_flat.add(Dense(units=10, activation=\"softmax\"))\n",
    "\n",
    "# compile\n",
    "model_flat.compile(optimizer=\"adam\", \n",
    "                   loss=\"categorical_crossentropy\", \n",
    "                   metrics=[\"accuracy\"])\n",
    "\n",
    "# history\n",
    "hist = model_flat.fit(x_train, \n",
    "                      y_train_c, \n",
    "                      validation_data=(x_test, y_test_c), \n",
    "                      batch_size=128, \n",
    "                      epochs=20)\n",
    "\n",
    "# prediction\n",
    "y_pred = model_flat.predict(x_test)\n"
   ]
  },
  {
   "cell_type": "code",
   "execution_count": 17,
   "metadata": {},
   "outputs": [
    {
     "data": {
      "text/plain": [
       "100352"
      ]
     },
     "execution_count": 17,
     "metadata": {},
     "output_type": "execute_result"
    }
   ],
   "source": [
    "28*28*128"
   ]
  },
  {
   "cell_type": "code",
   "execution_count": 37,
   "metadata": {},
   "outputs": [
    {
     "name": "stdout",
     "output_type": "stream",
     "text": [
      "Model: \"sequential_9\"\n",
      "_________________________________________________________________\n",
      " Layer (type)                Output Shape              Param #   \n",
      "=================================================================\n",
      " flatten_6 (Flatten)         (None, 784)               0         \n",
      "                                                                 \n",
      " dense_10 (Dense)            (None, 128)               100480    \n",
      "                                                                 \n",
      " dense_11 (Dense)            (None, 10)                1290      \n",
      "                                                                 \n",
      "=================================================================\n",
      "Total params: 101770 (397.54 KB)\n",
      "Trainable params: 101770 (397.54 KB)\n",
      "Non-trainable params: 0 (0.00 Byte)\n",
      "_________________________________________________________________\n"
     ]
    }
   ],
   "source": [
    "model_flat.summary()"
   ]
  },
  {
   "cell_type": "code",
   "execution_count": 19,
   "metadata": {},
   "outputs": [
    {
     "name": "stdout",
     "output_type": "stream",
     "text": [
      "prediction shape (10000, 10)\n"
     ]
    }
   ],
   "source": [
    "print(\"prediction shape\", y_pred.shape)"
   ]
  },
  {
   "cell_type": "code",
   "execution_count": 38,
   "metadata": {},
   "outputs": [
    {
     "name": "stdout",
     "output_type": "stream",
     "text": [
      "classification report               precision    recall  f1-score   support\n",
      "\n",
      "           0       0.98      0.98      0.98       980\n",
      "           1       0.98      0.99      0.98      1135\n",
      "           2       0.95      0.96      0.96      1032\n",
      "           3       0.94      0.95      0.95      1010\n",
      "           4       0.97      0.96      0.97       982\n",
      "           5       0.97      0.92      0.94       892\n",
      "           6       0.97      0.97      0.97       958\n",
      "           7       0.97      0.95      0.96      1028\n",
      "           8       0.94      0.96      0.95       974\n",
      "           9       0.94      0.96      0.95      1009\n",
      "\n",
      "    accuracy                           0.96     10000\n",
      "   macro avg       0.96      0.96      0.96     10000\n",
      "weighted avg       0.96      0.96      0.96     10000\n",
      "\n"
     ]
    }
   ],
   "source": [
    "from sklearn.metrics import classification_report\n",
    "import numpy as np \n",
    "y_pred_class = np.argmax(y_pred, axis=-1)\n",
    "\n",
    "print(\"classification report\", classification_report(y_test, y_pred_class))\n"
   ]
  },
  {
   "cell_type": "code",
   "execution_count": 11,
   "metadata": {},
   "outputs": [
    {
     "data": {
      "text/plain": [
       "dict_keys(['loss', 'accuracy', 'val_loss', 'val_accuracy'])"
      ]
     },
     "execution_count": 11,
     "metadata": {},
     "output_type": "execute_result"
    }
   ],
   "source": [
    "hist.history.keys()"
   ]
  },
  {
   "cell_type": "code",
   "execution_count": 21,
   "metadata": {},
   "outputs": [
    {
     "data": {
      "text/plain": [
       "<matplotlib.legend.Legend at 0x148d327f610>"
      ]
     },
     "execution_count": 21,
     "metadata": {},
     "output_type": "execute_result"
    },
    {
     "data": {
      "image/png": "[encoded data removed]",
      "text/plain": [
       "<Figure size 576x288 with 2 Axes>"
      ]
     },
     "metadata": {
      "needs_background": "light"
     },
     "output_type": "display_data"
    }
   ],
   "source": [
    "plt.figure(figsize=(8,4))\n",
    "\n",
    "plt.subplot(121)\n",
    "plt.plot(hist.history['loss'], label='loss')\n",
    "plt.plot(hist.history['val_loss'], label='loss (validation)')\n",
    "plt.legend()\n",
    "\n",
    "plt.subplot(122)\n",
    "plt.plot(hist.history['accuracy'], label='accuracy')\n",
    "plt.plot(hist.history['val_accuracy'], label='accuracy (validation)')\n",
    "plt.legend()"
   ]
  },
  {
   "cell_type": "code",
   "execution_count": 29,
   "metadata": {},
   "outputs": [
    {
     "name": "stdout",
     "output_type": "stream",
     "text": [
      "Epoch 1/20\n",
      "469/469 [==============================] - 3s 5ms/step - loss: 0.4322 - accuracy: 0.8775 - val_loss: 0.1313 - val_accuracy: 0.9608\n",
      "Epoch 2/20\n",
      "469/469 [==============================] - 2s 5ms/step - loss: 0.1216 - accuracy: 0.9640 - val_loss: 0.0888 - val_accuracy: 0.9732\n",
      "Epoch 3/20\n",
      "469/469 [==============================] - 2s 5ms/step - loss: 0.0899 - accuracy: 0.9728 - val_loss: 0.0687 - val_accuracy: 0.9790\n",
      "Epoch 4/20\n",
      "469/469 [==============================] - 2s 4ms/step - loss: 0.0752 - accuracy: 0.9770 - val_loss: 0.0683 - val_accuracy: 0.9780\n",
      "Epoch 5/20\n",
      "469/469 [==============================] - 2s 4ms/step - loss: 0.0665 - accuracy: 0.9797 - val_loss: 0.0611 - val_accuracy: 0.9803\n",
      "Epoch 6/20\n",
      "469/469 [==============================] - 2s 4ms/step - loss: 0.0599 - accuracy: 0.9815 - val_loss: 0.0568 - val_accuracy: 0.9819\n",
      "Epoch 7/20\n",
      "469/469 [==============================] - 2s 4ms/step - loss: 0.0542 - accuracy: 0.9833 - val_loss: 0.0523 - val_accuracy: 0.9827\n",
      "Epoch 8/20\n",
      "469/469 [==============================] - 2s 4ms/step - loss: 0.0502 - accuracy: 0.9850 - val_loss: 0.0504 - val_accuracy: 0.9830\n",
      "Epoch 9/20\n",
      "469/469 [==============================] - 2s 4ms/step - loss: 0.0465 - accuracy: 0.9856 - val_loss: 0.0493 - val_accuracy: 0.9841\n",
      "Epoch 10/20\n",
      "469/469 [==============================] - 2s 4ms/step - loss: 0.0446 - accuracy: 0.9865 - val_loss: 0.0504 - val_accuracy: 0.9839\n",
      "Epoch 11/20\n",
      "469/469 [==============================] - 2s 4ms/step - loss: 0.0423 - accuracy: 0.9869 - val_loss: 0.0525 - val_accuracy: 0.9818\n",
      "Epoch 12/20\n",
      "469/469 [==============================] - 2s 4ms/step - loss: 0.0393 - accuracy: 0.9876 - val_loss: 0.0518 - val_accuracy: 0.9832\n",
      "Epoch 13/20\n",
      "469/469 [==============================] - 2s 4ms/step - loss: 0.0372 - accuracy: 0.9881 - val_loss: 0.0448 - val_accuracy: 0.9847\n",
      "Epoch 14/20\n",
      "469/469 [==============================] - 2s 4ms/step - loss: 0.0353 - accuracy: 0.9890 - val_loss: 0.0445 - val_accuracy: 0.9845\n",
      "Epoch 15/20\n",
      "469/469 [==============================] - 2s 4ms/step - loss: 0.0331 - accuracy: 0.9900 - val_loss: 0.0469 - val_accuracy: 0.9849\n",
      "Epoch 16/20\n",
      "469/469 [==============================] - 2s 5ms/step - loss: 0.0319 - accuracy: 0.9899 - val_loss: 0.0441 - val_accuracy: 0.9853\n",
      "Epoch 17/20\n",
      "469/469 [==============================] - 2s 5ms/step - loss: 0.0304 - accuracy: 0.9904 - val_loss: 0.0421 - val_accuracy: 0.9862\n",
      "Epoch 18/20\n",
      "469/469 [==============================] - 2s 4ms/step - loss: 0.0291 - accuracy: 0.9908 - val_loss: 0.0447 - val_accuracy: 0.9853\n",
      "Epoch 19/20\n",
      "469/469 [==============================] - 2s 5ms/step - loss: 0.0278 - accuracy: 0.9911 - val_loss: 0.0435 - val_accuracy: 0.9847\n",
      "Epoch 20/20\n",
      "469/469 [==============================] - 2s 5ms/step - loss: 0.0264 - accuracy: 0.9917 - val_loss: 0.0508 - val_accuracy: 0.9840\n",
      "313/313 [==============================] - 0s 1ms/step\n"
     ]
    },
    {
     "data": {
      "text/plain": [
       "<matplotlib.legend.Legend at 0x148ab98fe50>"
      ]
     },
     "execution_count": 29,
     "metadata": {},
     "output_type": "execute_result"
    },
    {
     "data": {
      "image/png": "[encoded data removed]",
      "text/plain": [
       "<Figure size 576x288 with 2 Axes>"
      ]
     },
     "metadata": {
      "needs_background": "light"
     },
     "output_type": "display_data"
    }
   ],
   "source": [
    "from tensorflow.keras.layers import Conv2D, Input, MaxPooling2D\n",
    "\n",
    "# data 2 \n",
    "x_train_tensor = np.expand_dims(x_train, -1)\n",
    "x_test_tensor = np.expand_dims(x_test, -1)\n",
    "\n",
    "# model\n",
    "model_conv = Sequential()\n",
    "\n",
    "# input \n",
    "model_conv.add( Input(shape=(28,28,1)) )\n",
    "\n",
    "# hidden\n",
    "model_conv.add( Conv2D(filters=16, kernel_size = (3,3), activation=\"relu\") )\n",
    "model_conv.add( MaxPooling2D(pool_size=(2, 2)) )\n",
    "\n",
    "model_conv.add( Conv2D(filters=16,kernel_size = (3,3), activation=\"relu\"))\n",
    "model_conv.add( MaxPooling2D(pool_size=(2, 2)) )\n",
    "\n",
    "# output\n",
    "model_conv.add(Flatten())\n",
    "model_conv.add(Dense(units=10, activation=\"softmax\"))\n",
    "\n",
    "# compile\n",
    "model_conv.compile(optimizer=\"adam\", \n",
    "                   loss=\"sparse_categorical_crossentropy\", \n",
    "                   metrics=[\"accuracy\"])\n",
    "\n",
    "# history\n",
    "hist_conv = model_conv.fit(x_train_tensor, \n",
    "                      y_train, \n",
    "                      validation_data=(x_test_tensor, y_test), \n",
    "                      batch_size=128, \n",
    "                      epochs=20)\n",
    "\n",
    "# prediction\n",
    "y_pred_conv = model_conv.predict(x_test_tensor)\n",
    "\n",
    "y_pred_class_conv = np.argmax(y_pred_conv, axis=-1)\n",
    "\n",
    "plt.figure(figsize=(8,4))\n",
    "\n",
    "plt.subplot(121)\n",
    "plt.plot(hist_conv.history['loss'], label='loss')\n",
    "plt.plot(hist_conv.history['val_loss'], label='loss (validation)')\n",
    "plt.legend()\n",
    "\n",
    "plt.subplot(122)\n",
    "plt.plot(hist_conv.history['accuracy'], label='accuracy')\n",
    "plt.plot(hist_conv.history['val_accuracy'], label='accuracy (validation)')\n",
    "plt.legend()\n"
   ]
  },
  {
   "cell_type": "code",
   "execution_count": 30,
   "metadata": {},
   "outputs": [
    {
     "name": "stdout",
     "output_type": "stream",
     "text": [
      "classification report               precision    recall  f1-score   support\n",
      "\n",
      "           0       0.98      0.99      0.99       980\n",
      "           1       0.99      0.99      0.99      1135\n",
      "           2       0.98      0.98      0.98      1032\n",
      "           3       0.99      0.98      0.99      1010\n",
      "           4       0.98      1.00      0.99       982\n",
      "           5       0.96      0.99      0.98       892\n",
      "           6       0.99      0.98      0.99       958\n",
      "           7       0.97      0.99      0.98      1028\n",
      "           8       0.99      0.97      0.98       974\n",
      "           9       0.99      0.96      0.98      1009\n",
      "\n",
      "    accuracy                           0.98     10000\n",
      "   macro avg       0.98      0.98      0.98     10000\n",
      "weighted avg       0.98      0.98      0.98     10000\n",
      "\n"
     ]
    }
   ],
   "source": [
    "\n",
    "print(\"classification report\", classification_report(y_test, y_pred_class_conv))\n",
    "\n"
   ]
  }
 ],
 "metadata": {
  "kernelspec": {
   "display_name": "base",
   "language": "python",
   "name": "python3"
  },
  "language_info": {
   "codemirror_mode": {
    "name": "ipython",
    "version": 3
   },
   "file_extension": ".py",
   "mimetype": "text/x-python",
   "name": "python",
   "nbconvert_exporter": "python",
   "pygments_lexer": "ipython3",
   "version": "3.9.12"
  }
 },
 "nbformat": 4,
 "nbformat_minor": 2
}
