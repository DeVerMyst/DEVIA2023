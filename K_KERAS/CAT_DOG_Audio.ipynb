{
 "cells": [
  {
   "cell_type": "code",
   "execution_count": null,
   "metadata": {},
   "outputs": [],
   "source": [
    "from os.path import join \n",
    "from os import listdir\n",
    "\n",
    "import librosa \n",
    "\n",
    "path = \"/Users/antonyschutz/Downloads/cats_dogs\"\n",
    "rep = [\"test\",\"train\"]\n",
    "res = [\"cats\",\"dogs\"]\n",
    "\n",
    "All_cat = list()\n",
    "All_Fsc = list()\n",
    "for r in rep: \n",
    "    pp = join(path,r, res[0])\n",
    "    for filename in listdir(pp):\n",
    "        y, Fs = librosa.load(join(pp,filename))\n",
    "        All_cat.append(y)\n",
    "        All_Fsc = Fs\n",
    "\n",
    "All_dog = list()\n",
    "All_Fsd = list()\n",
    "for r in rep: \n",
    "    pp = join(path,r, res[1])\n",
    "    for filename in listdir(pp):\n",
    "        y, Fs = librosa.load(join(pp,filename))\n",
    "        All_dog.append(y)\n",
    "        All_Fsd = Fs        \n"
   ]
  },
  {
   "cell_type": "code",
   "execution_count": 12,
   "metadata": {},
   "outputs": [
    {
     "name": "stdout",
     "output_type": "stream",
     "text": [
      "Fs Cat unique [22050]\n",
      "Fs Dog unique [22050]\n"
     ]
    },
    {
     "data": {
      "text/plain": [
       "(array([29., 36., 13., 11.,  5.,  6.,  7.,  1.,  2.,  3.]),\n",
       " array([ 22396. ,  58082.9,  93769.8, 129456.7, 165143.6, 200830.5,\n",
       "        236517.4, 272204.3, 307891.2, 343578.1, 379265. ]),\n",
       " <BarContainer object of 10 artists>)"
      ]
     },
     "execution_count": 12,
     "metadata": {},
     "output_type": "execute_result"
    },
    {
     "data": {
      "image/png": "[encoded data removed]",
      "text/plain": [
       "<Figure size 640x480 with 1 Axes>"
      ]
     },
     "metadata": {},
     "output_type": "display_data"
    }
   ],
   "source": [
    "import numpy as np\n",
    "from matplotlib import pyplot as plt\n",
    "# check size \n",
    "print(\"Fs Cat unique\", np.unique(All_Fsc))\n",
    "print(\"Fs Dog unique\", np.unique(All_Fsd))\n",
    "\n",
    "Lcat = [len(s) for s in All_cat ]\n",
    "plt.hist(Lcat)\n",
    "\n",
    "Ldog = [len(s) for s in All_dog ]\n",
    "plt.hist(Ldog,alpha=.5)"
   ]
  },
  {
   "cell_type": "code",
   "execution_count": null,
   "metadata": {},
   "outputs": [],
   "source": [
    "# version easy "
   ]
  }
 ],
 "metadata": {
  "kernelspec": {
   "display_name": "base",
   "language": "python",
   "name": "python3"
  },
  "language_info": {
   "codemirror_mode": {
    "name": "ipython",
    "version": 3
   },
   "file_extension": ".py",
   "mimetype": "text/x-python",
   "name": "python",
   "nbconvert_exporter": "python",
   "pygments_lexer": "ipython3",
   "version": "3.11.5"
  }
 },
 "nbformat": 4,
 "nbformat_minor": 2
}
