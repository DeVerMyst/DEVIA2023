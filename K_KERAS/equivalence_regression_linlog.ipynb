{
 "cells": [
  {
   "cell_type": "markdown",
   "metadata": {},
   "source": [
    "**régression linéaire avec sklearn**"
   ]
  },
  {
   "cell_type": "code",
   "execution_count": 12,
   "metadata": {},
   "outputs": [
    {
     "data": {
      "image/png": "[encoded data removed]",
      "text/plain": [
       "<Figure size 432x288 with 1 Axes>"
      ]
     },
     "metadata": {
      "needs_background": "light"
     },
     "output_type": "display_data"
    }
   ],
   "source": [
    "from sklearn.linear_model import LinearRegression\n",
    "import numpy as np\n",
    "import matplotlib.pyplot as plt\n",
    "\n",
    "# Générer des données aléatoires\n",
    "np.random.seed(0)\n",
    "X = 2 * np.random.rand(100, 1)\n",
    "y = 4 + 3 * X + np.random.randn(100, 1)\n",
    "\n",
    "# Créer et entraîner le modèle de régression linéaire\n",
    "model_lr = LinearRegression()\n",
    "model_lr.fit(X, y)\n",
    "\n",
    "# Afficher les résultats\n",
    "plt.scatter(X, y, color='blue')\n",
    "plt.plot(X, model_lr.predict(X), color='red', linewidth=3)\n",
    "plt.title('Régression Linéaire avec scikit-learn')\n",
    "plt.show()\n"
   ]
  },
  {
   "cell_type": "markdown",
   "metadata": {},
   "source": [
    "**régression linéaire avec kéras**"
   ]
  },
  {
   "cell_type": "code",
   "execution_count": 13,
   "metadata": {},
   "outputs": [
    {
     "name": "stdout",
     "output_type": "stream",
     "text": [
      "Epoch 1/100\n",
      "10/10 [==============================] - 0s 778us/step - loss: 56.9037\n",
      "Epoch 2/100\n",
      "10/10 [==============================] - 0s 667us/step - loss: 24.9263\n",
      "Epoch 3/100\n",
      "10/10 [==============================] - 0s 833us/step - loss: 11.2952\n",
      "Epoch 4/100\n",
      "10/10 [==============================] - 0s 778us/step - loss: 5.4145\n",
      "Epoch 5/100\n",
      "10/10 [==============================] - 0s 722us/step - loss: 2.8943\n",
      "Epoch 6/100\n",
      "10/10 [==============================] - 0s 722us/step - loss: 1.8075\n",
      "Epoch 7/100\n",
      "10/10 [==============================] - 0s 778us/step - loss: 1.3516\n",
      "Epoch 8/100\n",
      "10/10 [==============================] - 0s 944us/step - loss: 1.1530\n",
      "Epoch 9/100\n",
      "10/10 [==============================] - 0s 778us/step - loss: 1.0627\n",
      "Epoch 10/100\n",
      "10/10 [==============================] - 0s 889us/step - loss: 1.0247\n",
      "Epoch 11/100\n",
      "10/10 [==============================] - 0s 833us/step - loss: 1.0105\n",
      "Epoch 12/100\n",
      "10/10 [==============================] - 0s 722us/step - loss: 1.0045\n",
      "Epoch 13/100\n",
      "10/10 [==============================] - 0s 722us/step - loss: 0.9993\n",
      "Epoch 14/100\n",
      "10/10 [==============================] - 0s 722us/step - loss: 0.9987\n",
      "Epoch 15/100\n",
      "10/10 [==============================] - 0s 778us/step - loss: 1.0009\n",
      "Epoch 16/100\n",
      "10/10 [==============================] - 0s 778us/step - loss: 1.0002\n",
      "Epoch 17/100\n",
      "10/10 [==============================] - 0s 667us/step - loss: 0.9966\n",
      "Epoch 18/100\n",
      "10/10 [==============================] - 0s 778us/step - loss: 0.9981\n",
      "Epoch 19/100\n",
      "10/10 [==============================] - 0s 778us/step - loss: 0.9959\n",
      "Epoch 20/100\n",
      "10/10 [==============================] - 0s 722us/step - loss: 0.9973\n",
      "Epoch 21/100\n",
      "10/10 [==============================] - 0s 722us/step - loss: 0.9971\n",
      "Epoch 22/100\n",
      "10/10 [==============================] - 0s 778us/step - loss: 0.9972\n",
      "Epoch 23/100\n",
      "10/10 [==============================] - 0s 833us/step - loss: 0.9972\n",
      "Epoch 24/100\n",
      "10/10 [==============================] - 0s 666us/step - loss: 0.9996\n",
      "Epoch 25/100\n",
      "10/10 [==============================] - 0s 833us/step - loss: 0.9948\n",
      "Epoch 26/100\n",
      "10/10 [==============================] - 0s 667us/step - loss: 0.9991\n",
      "Epoch 27/100\n",
      "10/10 [==============================] - 0s 722us/step - loss: 0.9957\n",
      "Epoch 28/100\n",
      "10/10 [==============================] - 0s 2ms/step - loss: 0.9982\n",
      "Epoch 29/100\n",
      "10/10 [==============================] - 0s 889us/step - loss: 0.9966\n",
      "Epoch 30/100\n",
      "10/10 [==============================] - 0s 833us/step - loss: 0.9955\n",
      "Epoch 31/100\n",
      "10/10 [==============================] - 0s 944us/step - loss: 0.9977\n",
      "Epoch 32/100\n",
      "10/10 [==============================] - 0s 722us/step - loss: 0.9968\n",
      "Epoch 33/100\n",
      "10/10 [==============================] - 0s 833us/step - loss: 0.9957\n",
      "Epoch 34/100\n",
      "10/10 [==============================] - 0s 722us/step - loss: 0.9966\n",
      "Epoch 35/100\n",
      "10/10 [==============================] - 0s 778us/step - loss: 0.9968\n",
      "Epoch 36/100\n",
      "10/10 [==============================] - 0s 778us/step - loss: 0.9942\n",
      "Epoch 37/100\n",
      "10/10 [==============================] - 0s 722us/step - loss: 0.9961\n",
      "Epoch 38/100\n",
      "10/10 [==============================] - 0s 833us/step - loss: 0.9951\n",
      "Epoch 39/100\n",
      "10/10 [==============================] - 0s 778us/step - loss: 0.9963\n",
      "Epoch 40/100\n",
      "10/10 [==============================] - 0s 778us/step - loss: 0.9970\n",
      "Epoch 41/100\n",
      "10/10 [==============================] - 0s 722us/step - loss: 0.9957\n",
      "Epoch 42/100\n",
      "10/10 [==============================] - 0s 833us/step - loss: 0.9946\n",
      "Epoch 43/100\n",
      "10/10 [==============================] - 0s 833us/step - loss: 0.9968\n",
      "Epoch 44/100\n",
      "10/10 [==============================] - 0s 778us/step - loss: 0.9952\n",
      "Epoch 45/100\n",
      "10/10 [==============================] - 0s 833us/step - loss: 0.9977\n",
      "Epoch 46/100\n",
      "10/10 [==============================] - 0s 722us/step - loss: 0.9946\n",
      "Epoch 47/100\n",
      "10/10 [==============================] - 0s 778us/step - loss: 0.9942\n",
      "Epoch 48/100\n",
      "10/10 [==============================] - 0s 778us/step - loss: 0.9953\n",
      "Epoch 49/100\n",
      "10/10 [==============================] - 0s 666us/step - loss: 0.9951\n",
      "Epoch 50/100\n",
      "10/10 [==============================] - 0s 667us/step - loss: 0.9959\n",
      "Epoch 51/100\n",
      "10/10 [==============================] - 0s 722us/step - loss: 0.9955\n",
      "Epoch 52/100\n",
      "10/10 [==============================] - 0s 889us/step - loss: 0.9977\n",
      "Epoch 53/100\n",
      "10/10 [==============================] - 0s 1000us/step - loss: 0.9964\n",
      "Epoch 54/100\n",
      "10/10 [==============================] - 0s 889us/step - loss: 0.9977\n",
      "Epoch 55/100\n",
      "10/10 [==============================] - 0s 945us/step - loss: 0.9939\n",
      "Epoch 56/100\n",
      "10/10 [==============================] - 0s 1ms/step - loss: 0.9949\n",
      "Epoch 57/100\n",
      "10/10 [==============================] - 0s 2ms/step - loss: 0.9965\n",
      "Epoch 58/100\n",
      "10/10 [==============================] - 0s 1ms/step - loss: 0.9966\n",
      "Epoch 59/100\n",
      "10/10 [==============================] - 0s 1ms/step - loss: 1.0016\n",
      "Epoch 60/100\n",
      "10/10 [==============================] - 0s 778us/step - loss: 0.9948\n",
      "Epoch 61/100\n",
      "10/10 [==============================] - 0s 833us/step - loss: 0.9945\n",
      "Epoch 62/100\n",
      "10/10 [==============================] - 0s 944us/step - loss: 0.9973\n",
      "Epoch 63/100\n",
      "10/10 [==============================] - 0s 889us/step - loss: 0.9952\n",
      "Epoch 64/100\n",
      "10/10 [==============================] - 0s 778us/step - loss: 0.9953\n",
      "Epoch 65/100\n",
      "10/10 [==============================] - 0s 889us/step - loss: 0.9963\n",
      "Epoch 66/100\n",
      "10/10 [==============================] - 0s 722us/step - loss: 0.9959\n",
      "Epoch 67/100\n",
      "10/10 [==============================] - 0s 778us/step - loss: 1.0000\n",
      "Epoch 68/100\n",
      "10/10 [==============================] - 0s 834us/step - loss: 0.9946\n",
      "Epoch 69/100\n",
      "10/10 [==============================] - 0s 778us/step - loss: 0.9944\n",
      "Epoch 70/100\n",
      "10/10 [==============================] - 0s 722us/step - loss: 0.9972\n",
      "Epoch 71/100\n",
      "10/10 [==============================] - 0s 777us/step - loss: 0.9961\n",
      "Epoch 72/100\n",
      "10/10 [==============================] - 0s 722us/step - loss: 0.9965\n",
      "Epoch 73/100\n",
      "10/10 [==============================] - 0s 777us/step - loss: 0.9957\n",
      "Epoch 74/100\n",
      "10/10 [==============================] - 0s 889us/step - loss: 0.9982\n",
      "Epoch 75/100\n",
      "10/10 [==============================] - 0s 777us/step - loss: 0.9932\n",
      "Epoch 76/100\n",
      "10/10 [==============================] - 0s 889us/step - loss: 1.0016\n",
      "Epoch 77/100\n",
      "10/10 [==============================] - 0s 666us/step - loss: 0.9937\n",
      "Epoch 78/100\n",
      "10/10 [==============================] - 0s 833us/step - loss: 0.9969\n",
      "Epoch 79/100\n",
      "10/10 [==============================] - 0s 723us/step - loss: 0.9964\n",
      "Epoch 80/100\n",
      "10/10 [==============================] - 0s 667us/step - loss: 0.9972\n",
      "Epoch 81/100\n",
      "10/10 [==============================] - 0s 722us/step - loss: 0.9955\n",
      "Epoch 82/100\n",
      "10/10 [==============================] - 0s 667us/step - loss: 0.9948\n",
      "Epoch 83/100\n",
      "10/10 [==============================] - 0s 2ms/step - loss: 0.9948\n",
      "Epoch 84/100\n",
      "10/10 [==============================] - 0s 1ms/step - loss: 0.9952\n",
      "Epoch 85/100\n",
      "10/10 [==============================] - 0s 778us/step - loss: 0.9949\n",
      "Epoch 86/100\n",
      "10/10 [==============================] - 0s 722us/step - loss: 0.9949\n",
      "Epoch 87/100\n",
      "10/10 [==============================] - 0s 667us/step - loss: 0.9956\n",
      "Epoch 88/100\n",
      "10/10 [==============================] - 0s 667us/step - loss: 0.9957\n",
      "Epoch 89/100\n",
      "10/10 [==============================] - 0s 778us/step - loss: 0.9971\n",
      "Epoch 90/100\n",
      "10/10 [==============================] - 0s 722us/step - loss: 0.9941\n",
      "Epoch 91/100\n",
      "10/10 [==============================] - 0s 722us/step - loss: 0.9955\n",
      "Epoch 92/100\n",
      "10/10 [==============================] - 0s 722us/step - loss: 1.0004\n",
      "Epoch 93/100\n",
      "10/10 [==============================] - 0s 722us/step - loss: 0.9973\n",
      "Epoch 94/100\n",
      "10/10 [==============================] - 0s 889us/step - loss: 0.9961\n",
      "Epoch 95/100\n",
      "10/10 [==============================] - 0s 833us/step - loss: 0.9951\n",
      "Epoch 96/100\n",
      "10/10 [==============================] - 0s 722us/step - loss: 0.9974\n",
      "Epoch 97/100\n",
      "10/10 [==============================] - 0s 722us/step - loss: 0.9976\n",
      "Epoch 98/100\n",
      "10/10 [==============================] - 0s 667us/step - loss: 0.9949\n",
      "Epoch 99/100\n",
      "10/10 [==============================] - 0s 778us/step - loss: 0.9968\n",
      "Epoch 100/100\n",
      "10/10 [==============================] - 0s 667us/step - loss: 0.9995\n",
      "4/4 [==============================] - 0s 834us/step\n"
     ]
    },
    {
     "data": {
      "image/png": "[encoded data removed]",
      "text/plain": [
       "<Figure size 432x288 with 1 Axes>"
      ]
     },
     "metadata": {
      "needs_background": "light"
     },
     "output_type": "display_data"
    }
   ],
   "source": [
    "from tensorflow.keras.models import Sequential\n",
    "from tensorflow.keras.layers import Dense\n",
    "\n",
    "# Créer et entraîner le modèle avec Keras\n",
    "model_nn_linear = Sequential()\n",
    "model_nn_linear.add(Dense(units=1, input_dim=1, activation='linear'))\n",
    "model_nn_linear.compile(optimizer='sgd', loss='mean_squared_error')\n",
    "model_nn_linear.fit(X, y, epochs=100, batch_size=10)\n",
    "\n",
    "# Afficher les résultats\n",
    "plt.scatter(X, y, color='blue')\n",
    "plt.plot(X, model_nn_linear.predict(X), color='red', linewidth=3)\n",
    "plt.title('Réseau de Neurones avec Activation Linéaire')\n",
    "plt.show()\n"
   ]
  },
  {
   "cell_type": "code",
   "execution_count": 14,
   "metadata": {},
   "outputs": [
    {
     "name": "stdout",
     "output_type": "stream",
     "text": [
      "4/4 [==============================] - 0s 833us/step\n"
     ]
    },
    {
     "data": {
      "text/plain": [
       "<matplotlib.legend.Legend at 0x257695640d0>"
      ]
     },
     "execution_count": 14,
     "metadata": {},
     "output_type": "execute_result"
    },
    {
     "data": {
      "image/png": "[encoded data removed]",
      "text/plain": [
       "<Figure size 432x288 with 1 Axes>"
      ]
     },
     "metadata": {
      "needs_background": "light"
     },
     "output_type": "display_data"
    }
   ],
   "source": [
    "# Afficher les résultats\n",
    "plt.scatter(X, y, color='blue')\n",
    "plt.plot(X, model_lr.predict(X), color='black', linewidth=3, label='Régression Linéaire avec scikit-learn')\n",
    "plt.plot(X, model_nn_linear.predict(X), color='red', linewidth=3,label='Réseau de Neurones avec Activation Linéaire')\n",
    "plt.legend()\n"
   ]
  },
  {
   "cell_type": "markdown",
   "metadata": {},
   "source": [
    "**Régression Logistique avec scikit-learn**"
   ]
  },
  {
   "cell_type": "code",
   "execution_count": 15,
   "metadata": {},
   "outputs": [
    {
     "name": "stdout",
     "output_type": "stream",
     "text": [
      "Rapport de Classification - Régression Logistique :\n",
      "              precision    recall  f1-score   support\n",
      "\n",
      "           0       1.00      0.89      0.94         9\n",
      "           1       0.92      1.00      0.96        11\n",
      "\n",
      "    accuracy                           0.95        20\n",
      "   macro avg       0.96      0.94      0.95        20\n",
      "weighted avg       0.95      0.95      0.95        20\n",
      "\n"
     ]
    }
   ],
   "source": [
    "from sklearn.linear_model import LogisticRegression\n",
    "from sklearn.datasets import make_classification\n",
    "from sklearn.model_selection import train_test_split\n",
    "from sklearn.metrics import classification_report\n",
    "\n",
    "# Générer des données aléatoires pour la classification binaire\n",
    "X, y = make_classification(n_samples=100, n_features=1, n_informative=1, n_redundant=0, n_clusters_per_class=1)\n",
    "\n",
    "# Diviser les données en ensembles d'entraînement et de test\n",
    "X_train, X_test, y_train, y_test = train_test_split(X, y, test_size=0.2, random_state=42)\n",
    "\n",
    "# Créer et entraîner le modèle de régression logistique\n",
    "model_logistic = LogisticRegression()\n",
    "model_logistic.fit(X_train, y_train)\n",
    "\n",
    "# Faire des prédictions sur l'ensemble de test\n",
    "y_pred_logistic = model_logistic.predict(X_test)\n",
    "\n",
    "# Afficher le rapport de classification\n",
    "print(\"Rapport de Classification - Régression Logistique :\")\n",
    "print(classification_report(y_test, y_pred_logistic))\n"
   ]
  },
  {
   "cell_type": "markdown",
   "metadata": {},
   "source": [
    "**Réseau de Neurones avec une Neurone et Activation Sigmoid avec Keras**"
   ]
  },
  {
   "cell_type": "code",
   "execution_count": 16,
   "metadata": {},
   "outputs": [
    {
     "name": "stdout",
     "output_type": "stream",
     "text": [
      "1/1 [==============================] - 0s 27ms/step\n",
      "Rapport de Classification - Réseau de Neurones avec Activation Sigmoid :\n",
      "              precision    recall  f1-score   support\n",
      "\n",
      "           0       1.00      0.89      0.94         9\n",
      "           1       0.92      1.00      0.96        11\n",
      "\n",
      "    accuracy                           0.95        20\n",
      "   macro avg       0.96      0.94      0.95        20\n",
      "weighted avg       0.95      0.95      0.95        20\n",
      "\n"
     ]
    }
   ],
   "source": [
    "from tensorflow.keras.models import Sequential\n",
    "from tensorflow.keras.layers import Dense\n",
    "\n",
    "# Créer et entraîner le modèle avec Keras\n",
    "model_nn_sigmoid = Sequential()\n",
    "model_nn_sigmoid.add(Dense(units=1, input_dim=1, activation='sigmoid'))\n",
    "model_nn_sigmoid.compile(optimizer='sgd', loss='binary_crossentropy')\n",
    "model_nn_sigmoid.fit(X_train, y_train, epochs=100, batch_size=10, verbose=0)\n",
    "\n",
    "# Faire des prédictions sur l'ensemble de test\n",
    "y_prob_nn_sigmoid = model_nn_sigmoid.predict(X_test)\n",
    "y_pred_nn_sigmoid = (y_prob_nn_sigmoid > 0.5).astype(int)\n",
    "\n",
    "# Afficher le rapport de classification\n",
    "print(\"Rapport de Classification - Réseau de Neurones avec Activation Sigmoid :\")\n",
    "print(classification_report(y_test, y_pred_nn_sigmoid))\n"
   ]
  },
  {
   "cell_type": "markdown",
   "metadata": {},
   "source": [
    "**Concaténer des réseaux**"
   ]
  },
  {
   "cell_type": "code",
   "execution_count": 17,
   "metadata": {},
   "outputs": [],
   "source": [
    "from tensorflow.keras.models import Sequential, Model\n",
    "from tensorflow.keras.layers import Input, Dense, Concatenate\n",
    "\n",
    "input_size = 10\n",
    "\n",
    "# Définir le modèle séquentiel\n",
    "model_sequential = Sequential()\n",
    "model_sequential.add(Dense(64, activation='relu', input_shape=(input_size,)))\n",
    "model_sequential.add(Dense(32, activation='relu'))\n",
    "\n",
    "# Définir le modèle fonctionnel\n",
    "input_functional = Input(shape=(input_size,))\n",
    "dense_functional = Dense(64, activation='relu')(input_functional)\n",
    "output_functional = Dense(32, activation='relu')(dense_functional)\n",
    "\n",
    "# Concaténer les sorties des deux modèles\n",
    "concatenated = Concatenate()([model_sequential.output, output_functional])\n",
    "\n",
    "# Ajouter une couche Dense finale pour obtenir la sortie\n",
    "final_output = Dense(1, activation='sigmoid')(concatenated)\n",
    "\n",
    "# Créer le modèle global\n",
    "model_combined = Model(inputs=[model_sequential.input, input_functional], outputs=final_output)\n",
    "\n",
    "# Compiler et entraîner le modèle_combined\n",
    "model_combined.compile(optimizer='adam', loss='binary_crossentropy', metrics=['accuracy'])\n",
    "# model_combined.fit([X_train, X_train], y_train, epochs=10, batch_size=32, validation_data=([X_test, X_test], y_test))\n"
   ]
  }
 ],
 "metadata": {
  "kernelspec": {
   "display_name": "base",
   "language": "python",
   "name": "python3"
  },
  "language_info": {
   "codemirror_mode": {
    "name": "ipython",
    "version": 3
   },
   "file_extension": ".py",
   "mimetype": "text/x-python",
   "name": "python",
   "nbconvert_exporter": "python",
   "pygments_lexer": "ipython3",
   "version": "3.9.12"
  }
 },
 "nbformat": 4,
 "nbformat_minor": 2
}
