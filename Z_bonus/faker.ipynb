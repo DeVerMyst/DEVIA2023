{
 "cells": [
  {
   "cell_type": "code",
   "execution_count": 3,
   "metadata": {},
   "outputs": [
    {
     "name": "stdout",
     "output_type": "stream",
     "text": [
      "Michelle Madden\n",
      "865 Campos Station\n",
      "Lake Michaelshire, AR 04095\n",
      "gordonrobert@example.com\n",
      "859-333-5502x1241\n",
      "1915-12-11\n",
      "Engineer, maintenance\n",
      "\n",
      "Jérôme Lévêque\n",
      "6, avenue Léon Leblanc\n",
      "49260 Sainte Alexandrie\n"
     ]
    }
   ],
   "source": [
    "# DOC\n",
    "# https://faker.readthedocs.io/en/master/\n",
    "# pip install faker\n",
    "\n",
    "# Importez la bibliothèque Faker\n",
    "from faker import Faker\n",
    "\n",
    "# Créez une instance de la classe Faker\n",
    "fake = Faker()\n",
    "\n",
    "# Générez des données aléatoires\n",
    "print(fake.name()) # \"Victor Barre\"\n",
    "print(fake.address()) # \"123 rue de la République, 75001 Paris\"\n",
    "print(fake.email()) # \"victor.barre@example.com\"\n",
    "print(fake.phone_number()) # \"01 02 03 04 05\"\n",
    "print(fake.date_of_birth()) # \"1980-01-01\"\n",
    "print(fake.job()) # \"Ingénieur logiciel\"\n",
    "\n",
    "# Générez des données aléatoires dans une langue spécifique\n",
    "fake = Faker(locale=\"fr_FR\")\n",
    "print(\"\")\n",
    "print(fake.name()) # \"Jean-Pierre Dupont\"\n",
    "print(fake.address()) # \"25 rue du Champ de Mars, 75007 Paris\"\n"
   ]
  }
 ],
 "metadata": {
  "kernelspec": {
   "display_name": "base",
   "language": "python",
   "name": "python3"
  },
  "language_info": {
   "codemirror_mode": {
    "name": "ipython",
    "version": 3
   },
   "file_extension": ".py",
   "mimetype": "text/x-python",
   "name": "python",
   "nbconvert_exporter": "python",
   "pygments_lexer": "ipython3",
   "version": "3.11.5"
  }
 },
 "nbformat": 4,
 "nbformat_minor": 2
}
