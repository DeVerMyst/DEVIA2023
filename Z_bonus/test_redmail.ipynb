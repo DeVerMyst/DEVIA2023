{
 "cells": [
  {
   "cell_type": "code",
   "execution_count": null,
   "metadata": {},
   "outputs": [],
   "source": [
    "from redmail import EmailSender\n",
    "# pip install redmail\n",
    "\n",
    "# mot de passe d'application google\n",
    "# compte\n",
    "# * sécurité \n",
    "# * * validation en deux étapes\n",
    "# * * * mot de passe d'application \n",
    "# * * * - créer une nouvelle application pour avoir le mot de passe\n",
    "\n",
    "email = EmailSender(\n",
    "    host='smtp.gmail.com',\n",
    "    port=587,\n",
    "    username='<MAIL>',\n",
    "    password='<PASSWORD>'\n",
    ")\n",
    "\n",
    "email.send(\n",
    "    subject=\"<SUBJECT>\",\n",
    "    sender=\"<FROM>\",\n",
    "    receivers=['<TO>'],\n",
    "    text=\"<CONTENT>\",\n",
    "    html=\"<CONTENT HTML>\"\n",
    ")"
   ]
  }
 ],
 "metadata": {
  "kernelspec": {
   "display_name": "base",
   "language": "python",
   "name": "python3"
  },
  "language_info": {
   "codemirror_mode": {
    "name": "ipython",
    "version": 3
   },
   "file_extension": ".py",
   "mimetype": "text/x-python",
   "name": "python",
   "nbconvert_exporter": "python",
   "pygments_lexer": "ipython3",
   "version": "3.11.5"
  }
 },
 "nbformat": 4,
 "nbformat_minor": 2
}
