{
 "cells": [
  {
   "cell_type": "code",
   "execution_count": 8,
   "metadata": {},
   "outputs": [],
   "source": [
    "from sklearn.compose import ColumnTransformer\n",
    "from sklearn.pipeline import Pipeline\n",
    "from sklearn.preprocessing import StandardScaler\n",
    "from sklearn.impute import SimpleImputer\n",
    "from numpy.random import rand\n",
    "from sklearn.linear_model import LinearRegression\n",
    "import pandas as pd\n",
    "# Supposons que vous avez un DataFrame pandas 'data' avec des colonnes 'col1', 'col2', etc.\n",
    "mydict = {\"col1\": rand(64), \"col2\": rand(64)}\n",
    "data = pd.DataFrame(mydict)\n",
    "data.head()\n",
    "\n",
    "y = rand(64)\n"
   ]
  },
  {
   "cell_type": "code",
   "execution_count": 6,
   "metadata": {},
   "outputs": [],
   "source": [
    "# Créez un transformateur pour les colonnes que vous souhaitez inclure dans le pipeline\n",
    "transformer = ColumnTransformer(\n",
    "    transformers=[\n",
    "        ('num', Pipeline([\n",
    "            ('imputer', SimpleImputer(strategy='mean')),  # Vous pouvez personnaliser la stratégie de remplacement des valeurs manquantes\n",
    "            ('scaler', StandardScaler())\n",
    "        ]), ['col1', 'col2']),  # Liste des noms de colonnes à inclure dans ce transformateur\n",
    "        # Vous pouvez ajouter d'autres transformateurs pour d'autres types de colonnes si nécessaire\n",
    "    ],\n",
    "    remainder='passthrough'  # Cela permettra de conserver les colonnes non incluses dans les transformateurs\n",
    ")\n",
    "\n",
    "# Créez le pipeline en utilisant le transformateur\n",
    "pipeline = Pipeline([\n",
    "    ('data_preprocessing', transformer),\n",
    "    ('classifier', LinearRegression())  # Remplacez 'VotreEstimateur' par l'estimateur que vous utilisez\n",
    "])\n"
   ]
  },
  {
   "cell_type": "code",
   "execution_count": 9,
   "metadata": {},
   "outputs": [
    {
     "name": "stdout",
     "output_type": "stream",
     "text": [
      "['num__col1' 'num__col2']\n"
     ]
    }
   ],
   "source": [
    "# Entraînez votre pipeline sur les données\n",
    "pipeline.fit(data,y)\n",
    "\n",
    "# Vous pouvez accéder aux noms des colonnes après la transformation\n",
    "column_names = transformer.get_feature_names_out(input_features=['col1', 'col2'])\n",
    "print(column_names)"
   ]
  },
  {
   "cell_type": "code",
   "execution_count": 15,
   "metadata": {},
   "outputs": [
    {
     "name": "stderr",
     "output_type": "stream",
     "text": [
      "/Users/antonyschutz/anaconda3/lib/python3.11/site-packages/sklearn/preprocessing/_encoders.py:972: FutureWarning: `sparse` was renamed to `sparse_output` in version 1.2 and will be removed in 1.4. `sparse_output` is ignored unless you leave `sparse` to its default value.\n",
      "  warnings.warn(\n"
     ]
    },
    {
     "ename": "AttributeError",
     "evalue": "'OneHotEncoder' object has no attribute 'get_feature_names'",
     "output_type": "error",
     "traceback": [
      "\u001b[0;31m---------------------------------------------------------------------------\u001b[0m",
      "\u001b[0;31mAttributeError\u001b[0m                            Traceback (most recent call last)",
      "\u001b[1;32m/Users/antonyschutz/Documents/WORK/GitHub/DEVIA2023/Z_bonus/keepnameinpipeline.ipynb Cellule 4\u001b[0m line \u001b[0;36m3\n\u001b[1;32m     <a href='vscode-notebook-cell:/Users/antonyschutz/Documents/WORK/GitHub/DEVIA2023/Z_bonus/keepnameinpipeline.ipynb#W4sZmlsZQ%3D%3D?line=30'>31</a>\u001b[0m column_names \u001b[39m=\u001b[39m []\n\u001b[1;32m     <a href='vscode-notebook-cell:/Users/antonyschutz/Documents/WORK/GitHub/DEVIA2023/Z_bonus/keepnameinpipeline.ipynb#W4sZmlsZQ%3D%3D?line=32'>33</a>\u001b[0m \u001b[39m# Obtenez les noms de colonnes de l'encodage one-hot en utilisant le nom des colonnes d'entrée\u001b[39;00m\n\u001b[0;32m---> <a href='vscode-notebook-cell:/Users/antonyschutz/Documents/WORK/GitHub/DEVIA2023/Z_bonus/keepnameinpipeline.ipynb#W4sZmlsZQ%3D%3D?line=33'>34</a>\u001b[0m cat_columns \u001b[39m=\u001b[39m preprocessor\u001b[39m.\u001b[39mtransformers_[\u001b[39m0\u001b[39m][\u001b[39m1\u001b[39m]\u001b[39m.\u001b[39mget_feature_names(input_features\u001b[39m=\u001b[39mcategorical_columns)\n\u001b[1;32m     <a href='vscode-notebook-cell:/Users/antonyschutz/Documents/WORK/GitHub/DEVIA2023/Z_bonus/keepnameinpipeline.ipynb#W4sZmlsZQ%3D%3D?line=34'>35</a>\u001b[0m column_names\u001b[39m.\u001b[39mextend(cat_columns)\n\u001b[1;32m     <a href='vscode-notebook-cell:/Users/antonyschutz/Documents/WORK/GitHub/DEVIA2023/Z_bonus/keepnameinpipeline.ipynb#W4sZmlsZQ%3D%3D?line=36'>37</a>\u001b[0m \u001b[39m# Les colonnes numériques restent inchangées, ajoutez simplement les noms de colonnes d'origine\u001b[39;00m\n",
      "\u001b[0;31mAttributeError\u001b[0m: 'OneHotEncoder' object has no attribute 'get_feature_names'"
     ]
    }
   ],
   "source": [
    "import pandas as pd\n",
    "from sklearn.compose import ColumnTransformer\n",
    "from sklearn.preprocessing import OneHotEncoder, StandardScaler\n",
    "from sklearn.pipeline import Pipeline\n",
    "\n",
    "data = pd.DataFrame({\n",
    "    'Category': ['A', 'B', 'A', 'C', 'B'],\n",
    "    'Numeric1': [10, 20, 15, 30, 25]\n",
    "})\n",
    "\n",
    "categorical_columns = ['Category']\n",
    "numeric_columns = ['Numeric1']\n",
    "\n",
    "# Utilisez un pipeline pour effectuer l'encodage one-hot et la transformation automatique des noms de colonnes\n",
    "preprocessor = ColumnTransformer(\n",
    "    transformers=[\n",
    "        ('cat', OneHotEncoder(handle_unknown='ignore', sparse=False), categorical_columns),\n",
    "        ('num', StandardScaler(), numeric_columns)  # Vous pouvez utiliser un autre transformateur numérique si nécessaire\n",
    "    ],\n",
    "    remainder='passthrough'\n",
    ")\n",
    "\n",
    "# Créez un pipeline pour encapsuler le préprocesseur\n",
    "pipeline = Pipeline([\n",
    "    ('preprocessor', preprocessor)\n",
    "])\n",
    "\n",
    "transformed_data = pipeline.fit_transform(data)\n",
    "\n",
    "# Les noms de colonnes sont générés automatiquement.\n",
    "column_names = []\n",
    "\n",
    "# Obtenez les noms de colonnes de l'encodage one-hot en utilisant le nom des colonnes d'entrée\n",
    "cat_columns = preprocessor.transformers_[0][1].get_feature_names(input_features=categorical_columns)\n",
    "column_names.extend(cat_columns)\n",
    "\n",
    "# Les colonnes numériques restent inchangées, ajoutez simplement les noms de colonnes d'origine\n",
    "column_names.extend(numeric_columns)\n",
    "\n",
    "transformed_df = pd.DataFrame(transformed_data, columns=column_names)\n",
    "\n",
    "print(transformed_df)\n"
   ]
  },
  {
   "cell_type": "code",
   "execution_count": null,
   "metadata": {},
   "outputs": [],
   "source": []
  }
 ],
 "metadata": {
  "kernelspec": {
   "display_name": "base",
   "language": "python",
   "name": "python3"
  },
  "language_info": {
   "codemirror_mode": {
    "name": "ipython",
    "version": 3
   },
   "file_extension": ".py",
   "mimetype": "text/x-python",
   "name": "python",
   "nbconvert_exporter": "python",
   "pygments_lexer": "ipython3",
   "version": "3.11.5"
  }
 },
 "nbformat": 4,
 "nbformat_minor": 2
}
