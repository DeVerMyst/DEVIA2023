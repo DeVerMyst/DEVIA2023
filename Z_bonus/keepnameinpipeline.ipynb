{
 "cells": [
  {
   "cell_type": "code",
   "execution_count": 8,
   "metadata": {},
   "outputs": [],
   "source": [
    "from sklearn.compose import ColumnTransformer\n",
    "from sklearn.pipeline import Pipeline\n",
    "from sklearn.preprocessing import StandardScaler\n",
    "from sklearn.impute import SimpleImputer\n",
    "from numpy.random import rand\n",
    "from sklearn.linear_model import LinearRegression\n",
    "import pandas as pd\n",
    "# Supposons que vous avez un DataFrame pandas 'data' avec des colonnes 'col1', 'col2', etc.\n",
    "mydict = {\"col1\": rand(64), \"col2\": rand(64)}\n",
    "data = pd.DataFrame(mydict)\n",
    "data.head()\n",
    "\n",
    "y = rand(64)\n"
   ]
  },
  {
   "cell_type": "code",
   "execution_count": 6,
   "metadata": {},
   "outputs": [],
   "source": [
    "# Créez un transformateur pour les colonnes que vous souhaitez inclure dans le pipeline\n",
    "transformer = ColumnTransformer(\n",
    "    transformers=[\n",
    "        ('num', Pipeline([\n",
    "            ('imputer', SimpleImputer(strategy='mean')),  # Vous pouvez personnaliser la stratégie de remplacement des valeurs manquantes\n",
    "            ('scaler', StandardScaler())\n",
    "        ]), ['col1', 'col2']),  # Liste des noms de colonnes à inclure dans ce transformateur\n",
    "        # Vous pouvez ajouter d'autres transformateurs pour d'autres types de colonnes si nécessaire\n",
    "    ],\n",
    "    remainder='passthrough'  # Cela permettra de conserver les colonnes non incluses dans les transformateurs\n",
    ")\n",
    "\n",
    "# Créez le pipeline en utilisant le transformateur\n",
    "pipeline = Pipeline([\n",
    "    ('data_preprocessing', transformer),\n",
    "    ('classifier', LinearRegression())  # Remplacez 'VotreEstimateur' par l'estimateur que vous utilisez\n",
    "])\n"
   ]
  },
  {
   "cell_type": "code",
   "execution_count": 9,
   "metadata": {},
   "outputs": [
    {
     "name": "stdout",
     "output_type": "stream",
     "text": [
      "['num__col1' 'num__col2']\n"
     ]
    }
   ],
   "source": [
    "# Entraînez votre pipeline sur les données\n",
    "pipeline.fit(data,y)\n",
    "\n",
    "# Vous pouvez accéder aux noms des colonnes après la transformation\n",
    "column_names = transformer.get_feature_names_out(input_features=['col1', 'col2'])\n",
    "print(column_names)"
   ]
  }
 ],
 "metadata": {
  "kernelspec": {
   "display_name": "base",
   "language": "python",
   "name": "python3"
  },
  "language_info": {
   "codemirror_mode": {
    "name": "ipython",
    "version": 3
   },
   "file_extension": ".py",
   "mimetype": "text/x-python",
   "name": "python",
   "nbconvert_exporter": "python",
   "pygments_lexer": "ipython3",
   "version": "3.11.5"
  }
 },
 "nbformat": 4,
 "nbformat_minor": 2
}
