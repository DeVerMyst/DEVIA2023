{
 "cells": [
  {
   "cell_type": "code",
   "execution_count": 1,
   "metadata": {},
   "outputs": [
    {
     "name": "stderr",
     "output_type": "stream",
     "text": [
      "2024-01-25 15:32:23,596 - macbookevalrose.home - INFO - Ceci est un message informatif\n",
      "2024-01-25 15:32:23,599 - macbookevalrose.home - WARNING - Ceci est un avertissement\n",
      "2024-01-25 15:32:23,601 - macbookevalrose.home - ERROR - Ceci est une erreur\n",
      "2024-01-25 15:32:23,602 - macbookevalrose.home - CRITICAL - Ceci est une erreur critique\n"
     ]
    }
   ],
   "source": [
    "import logging\n",
    "import os\n",
    "import socket\n",
    "from datetime import datetime\n",
    "\n",
    "# Configurez le niveau de journalisation\n",
    "log_file_path = 'logs/app.log'\n",
    "\n",
    "# Vérifiez si le dossier 'logs' existe, sinon, créez-le\n",
    "log_folder = os.path.dirname(log_file_path)\n",
    "if not os.path.exists(log_folder):\n",
    "    os.makedirs(log_folder)\n",
    "\n",
    "# Vérifiez si le fichier journal existe, sinon, créez-le\n",
    "if not os.path.isfile(log_file_path):\n",
    "    with open(log_file_path, 'w'):\n",
    "        pass  # Créez simplement le fichier vide\n",
    "\n",
    "# Configurez le niveau de journalisation et le format des messages\n",
    "logging.basicConfig(level=logging.INFO,\n",
    "                    format='%(asctime)s - %(hostname)s - %(levelname)s - %(message)s',\n",
    "                    handlers=[logging.FileHandler(log_file_path, 'a'), logging.StreamHandler()])\n",
    "\n",
    "# Ajoutez un filtre pour inclure l'adresse de l'hôte dans les messages\n",
    "class HostnameFilter(logging.Filter):\n",
    "    def filter(self, record):\n",
    "        record.hostname = socket.gethostname()\n",
    "        return True\n",
    "\n",
    "# Ajoutez le filtre au logger\n",
    "logger = logging.getLogger()\n",
    "logger.addFilter(HostnameFilter())\n",
    "\n",
    "# Écrivez des messages dans le journal\n",
    "logging.debug('Ceci est un message de débogage')\n",
    "logging.info('Ceci est un message informatif')\n",
    "logging.warning('Ceci est un avertissement')\n",
    "logging.error('Ceci est une erreur')\n",
    "logging.critical('Ceci est une erreur critique')\n"
   ]
  }
 ],
 "metadata": {
  "kernelspec": {
   "display_name": "base",
   "language": "python",
   "name": "python3"
  },
  "language_info": {
   "codemirror_mode": {
    "name": "ipython",
    "version": 3
   },
   "file_extension": ".py",
   "mimetype": "text/x-python",
   "name": "python",
   "nbconvert_exporter": "python",
   "pygments_lexer": "ipython3",
   "version": "3.11.5"
  }
 },
 "nbformat": 4,
 "nbformat_minor": 2
}
