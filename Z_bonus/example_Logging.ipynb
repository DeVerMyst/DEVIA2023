{
 "cells": [
  {
   "cell_type": "code",
   "execution_count": 5,
   "metadata": {},
   "outputs": [],
   "source": [
    "import logging\n",
    "import os\n",
    "import socket\n",
    "from datetime import datetime\n",
    "\n",
    "# Configurez le niveau de journalisation\n",
    "log_file_path = 'logs/app.log'\n",
    "\n",
    "# Vérifiez si le dossier 'logs' existe, sinon, créez-le\n",
    "log_folder = os.path.dirname(log_file_path)\n",
    "if not os.path.exists(log_folder):\n",
    "    os.makedirs(log_folder)\n",
    "\n",
    "# Vérifiez si le fichier journal existe, sinon, créez-le\n",
    "if not os.path.isfile(log_file_path):\n",
    "    with open(log_file_path, 'w'):\n",
    "        pass  # Créez simplement le fichier vide\n",
    "\n",
    "# Configurez le niveau de journalisation et le format des messages\n",
    "logging.basicConfig(level=logging.INFO,\n",
    "                    format='%(asctime)s - %(hostname)s - %(levelname)s - %(message)s',\n",
    "                    handlers=[logging.FileHandler(log_file_path, 'a'), logging.StreamHandler()])\n",
    "\n",
    "# Ajoutez un filtre pour inclure l'adresse de l'hôte dans les messages\n",
    "class HostnameFilter(logging.Filter):\n",
    "    def filter(self, record):\n",
    "        record.hostname = socket.gethostname()\n",
    "        return True\n",
    "\n",
    "# Ajoutez le filtre au logger\n",
    "logger = logging.getLogger()\n",
    "logger.addFilter(HostnameFilter())"
   ]
  },
  {
   "cell_type": "code",
   "execution_count": 6,
   "metadata": {},
   "outputs": [
    {
     "name": "stderr",
     "output_type": "stream",
     "text": [
      "2024-01-26 15:55:50,116 - macbookevalrose.home - ERROR - attention la variable n'existe pas\n"
     ]
    },
    {
     "name": "stdout",
     "output_type": "stream",
     "text": [
      "unknown\n"
     ]
    }
   ],
   "source": [
    "\n",
    "try: \n",
    "    print(a)\n",
    "except NameError: \n",
    "    logging.error(\"attention la variable n'existe pas\")\n",
    "    print(\"unknown\")\n",
    "    \n",
    "\n"
   ]
  },
  {
   "cell_type": "code",
   "execution_count": 9,
   "metadata": {},
   "outputs": [
    {
     "name": "stderr",
     "output_type": "stream",
     "text": [
      "2024-01-26 15:59:25,093 - macbookevalrose.home - INFO - Debut de l'entrainement du modèle\n"
     ]
    },
    {
     "name": "stdout",
     "output_type": "stream",
     "text": [
      "0\n"
     ]
    },
    {
     "name": "stderr",
     "output_type": "stream",
     "text": [
      "2024-01-26 15:59:27,113 - macbookevalrose.home - INFO - Le processus s'est terminé en 2.001723051071167 secondes\n"
     ]
    },
    {
     "name": "stdout",
     "output_type": "stream",
     "text": [
      "1\n"
     ]
    },
    {
     "name": "stderr",
     "output_type": "stream",
     "text": [
      "2024-01-26 15:59:29,118 - macbookevalrose.home - INFO - Le processus s'est terminé en 2.004082202911377 secondes\n"
     ]
    },
    {
     "name": "stdout",
     "output_type": "stream",
     "text": [
      "2\n"
     ]
    },
    {
     "name": "stderr",
     "output_type": "stream",
     "text": [
      "2024-01-26 15:59:31,124 - macbookevalrose.home - INFO - Le processus s'est terminé en 2.0043373107910156 secondes\n",
      "2024-01-26 15:59:31,125 - macbookevalrose.home - INFO - modèle entrainé\n"
     ]
    }
   ],
   "source": [
    "import time\n",
    "\n",
    "logging.info(\"Debut de l'entrainement du modèle\")\n",
    "for n in range(3):\n",
    "    debut = time.time()\n",
    "    # ENTRAINEMENT MODEL\n",
    "    print(n)\n",
    "    time.sleep(2)\n",
    "    # FIN \n",
    "    duration = time.time() - debut \n",
    "\n",
    "    logging.info(\"Le processus s'est terminé en {} secondes\".format(duration))\n",
    "logging.info(\"modèle entrainé\")\n"
   ]
  }
 ],
 "metadata": {
  "kernelspec": {
   "display_name": "base",
   "language": "python",
   "name": "python3"
  },
  "language_info": {
   "codemirror_mode": {
    "name": "ipython",
    "version": 3
   },
   "file_extension": ".py",
   "mimetype": "text/x-python",
   "name": "python",
   "nbconvert_exporter": "python",
   "pygments_lexer": "ipython3",
   "version": "3.11.5"
  }
 },
 "nbformat": 4,
 "nbformat_minor": 2
}
